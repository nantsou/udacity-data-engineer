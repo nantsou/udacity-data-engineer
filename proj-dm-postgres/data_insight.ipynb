{
 "cells": [
  {
   "cell_type": "markdown",
   "metadata": {
    "editable": true
   },
   "source": [
    "# Data Insight"
   ]
  },
  {
   "cell_type": "code",
   "execution_count": 1,
   "metadata": {
    "editable": true
   },
   "outputs": [],
   "source": [
    "from functools import reduce\n",
    "from typing import List, Callable\n",
    "import json\n",
    "import os"
   ]
  },
  {
   "cell_type": "code",
   "execution_count": 2,
   "metadata": {
    "editable": true
   },
   "outputs": [],
   "source": [
    "def show_length_stat(prop_name_list: List[str], data_set: List[dict]) -> None:\n",
    "    print(f'{\"prop_name\".ljust(18)}{\"prop_len\".rjust(10)}{\"prop_cnt\".rjust(20)}{\"prop_mean\".rjust(20)}{\"prop_max_len\".rjust(20)}{\"prop_min_len\".rjust(20)}')\n",
    "    for prop_name in prop_name_list:\n",
    "        prop_len = reduce(lambda a, b: a + b.get(prop_name, 0) if b.get(prop_name, 0) != -1 else a, data_set, 0)\n",
    "        prop_cnt = reduce(lambda a, b: a + 1 if b.get(prop_name, 0) != -1 else a, data_set, 0)\n",
    "        prop_mean = prop_len//prop_cnt\n",
    "        prop_max_len = max([x[prop_name] for x in data_set if x[prop_name] != -1])\n",
    "        prop_min_len = min([x[prop_name] for x in data_set if x[prop_name] != -1])\n",
    "        print(f'{prop_name.ljust(18)}{str(prop_len).rjust(10)}{str(prop_cnt).rjust(20)}{str(prop_mean).rjust(20)}{str(prop_max_len).rjust(20)}{str(prop_min_len).rjust(20)}')"
   ]
  },
  {
   "cell_type": "markdown",
   "metadata": {
    "editable": true
   },
   "source": [
    "## Song Data"
   ]
  },
  {
   "cell_type": "code",
   "execution_count": 3,
   "metadata": {
    "editable": true
   },
   "outputs": [],
   "source": [
    "def get_prop_name_list_song(file_path: str) -> List[str]:\n",
    "    with open(file_path, 'r') as f:\n",
    "        data = json.loads(f.read())\n",
    "        return list(data.keys())"
   ]
  },
  {
   "cell_type": "code",
   "execution_count": 4,
   "metadata": {
    "editable": true
   },
   "outputs": [],
   "source": [
    "def get_data_set_song(data_src_dir: str) -> List[dict]:\n",
    "    data_set = []\n",
    "    for path, _, files in os.walk(data_src_dir):\n",
    "        for file in files:\n",
    "            with open(os.path.join(path, file), 'r') as f:\n",
    "                data_set.append(json.loads(f.read()))\n",
    "    return data_set"
   ]
  },
  {
   "cell_type": "code",
   "execution_count": 5,
   "metadata": {
    "editable": true
   },
   "outputs": [],
   "source": [
    "def parse_song_data(data: dict) -> dict:\n",
    "    parsed = {}\n",
    "    for key in data.keys():\n",
    "        if key == 'year':\n",
    "            parsed[key] = len(str(data[key])) if data[key] is not None and len(str(data[key])) == 4 else -1\n",
    "        else:\n",
    "            parsed[key] = len(str(data[key])) if data[key] else -1\n",
    "    return parsed"
   ]
  },
  {
   "cell_type": "code",
   "execution_count": 7,
   "metadata": {
    "editable": true
   },
   "outputs": [],
   "source": [
    "# get the property names in song_data\n",
    "prop_name_list_song = get_prop_name_list_song('data/song_data/A/A/A/TRAAAAW128F429D538.json')"
   ]
  },
  {
   "cell_type": "code",
   "execution_count": 9,
   "metadata": {
    "editable": true
   },
   "outputs": [],
   "source": [
    "# get data set of song data\n",
    "data_set_song = get_data_set_song('data/song_data')"
   ]
  },
  {
   "cell_type": "code",
   "execution_count": 10,
   "metadata": {
    "editable": true
   },
   "outputs": [],
   "source": [
    "# parse song data to get lenght of each property.\n",
    "parsed_data_set_song = list(map(parse_song_data, data_set_song))"
   ]
  },
  {
   "cell_type": "code",
   "execution_count": 11,
   "metadata": {
    "editable": true
   },
   "outputs": [
    {
     "name": "stdout",
     "output_type": "stream",
     "text": [
      "prop_name           prop_len            prop_cnt           prop_mean        prop_max_len        prop_min_len\n",
      "num_songs                 71                  71                   1                   1                   1\n",
      "artist_id               1278                  71                  18                  18                  18\n",
      "artist_latitude          243                  31                   7                   8                   6\n",
      "artist_longitude         273                  31                   8                  10                   7\n",
      "artist_location          563                  43                  13                  29                   4\n",
      "artist_name              953                  71                  13                  94                   3\n",
      "song_id                 1278                  71                  18                  18                  18\n",
      "title                   1435                  71                  20                  52                   5\n",
      "duration                 628                  71                   8                   9                   7\n",
      "year                     112                  28                   4                   4                   4\n"
     ]
    }
   ],
   "source": [
    "show_length_stat(prop_name_list_song, parsed_data_set_song)"
   ]
  },
  {
   "cell_type": "markdown",
   "metadata": {
    "editable": true
   },
   "source": [
    "## Log Data"
   ]
  },
  {
   "cell_type": "code",
   "execution_count": 12,
   "metadata": {
    "editable": true
   },
   "outputs": [],
   "source": [
    "def get_prop_name_list_log(file_path: str) -> List[str]:\n",
    "    with open(file_path, 'r') as f:\n",
    "        data = json.loads(next(f))\n",
    "        return list(data.keys())"
   ]
  },
  {
   "cell_type": "code",
   "execution_count": 13,
   "metadata": {
    "editable": true
   },
   "outputs": [],
   "source": [
    "def get_data_set_log(data_src_dir: str) -> List[dict]:\n",
    "    data_set = []\n",
    "    for path, _, files in os.walk(data_src_dir):\n",
    "        for file in files:\n",
    "            with open(os.path.join(path, file), 'r') as f:\n",
    "                for row in f:\n",
    "                    data_set.append(json.loads(row))\n",
    "    return data_set"
   ]
  },
  {
   "cell_type": "code",
   "execution_count": 14,
   "metadata": {
    "editable": true
   },
   "outputs": [],
   "source": [
    "def parse_log_data(data: dict) -> dict:\n",
    "    parsed = {}\n",
    "    for key in data.keys():\n",
    "        parsed[key] = len(str(data[key])) if data[key] else -1\n",
    "    return parsed"
   ]
  },
  {
   "cell_type": "code",
   "execution_count": 15,
   "metadata": {
    "editable": true
   },
   "outputs": [],
   "source": [
    "# get the property names in log data\n",
    "prop_name_list_log = get_prop_name_list_log('data/log_data/2018/11/2018-11-01-events.json')"
   ]
  },
  {
   "cell_type": "code",
   "execution_count": 16,
   "metadata": {
    "editable": true
   },
   "outputs": [],
   "source": [
    "# get data set of log data\n",
    "data_set_log = get_data_set_log('data/log_data')"
   ]
  },
  {
   "cell_type": "code",
   "execution_count": 17,
   "metadata": {
    "editable": true
   },
   "outputs": [],
   "source": [
    "parsed_data_set_log = list(map(parse_log_data, data_set_log))"
   ]
  },
  {
   "cell_type": "code",
   "execution_count": 18,
   "metadata": {
    "editable": true
   },
   "outputs": [
    {
     "name": "stdout",
     "output_type": "stream",
     "text": [
      "prop_name           prop_len            prop_cnt           prop_mean        prop_max_len        prop_min_len\n",
      "artist                 89063                6820                  13                  89                   2\n",
      "auth                   72790                8056                   9                  10                   9\n",
      "firstName              43077                7770                   5                  10                   3\n",
      "gender                  7770                7770                   1                   1                   1\n",
      "itemInSession          11691                7115                   1                   3                   1\n",
      "lastName               46185                7770                   5                   9                   3\n",
      "length                 60388                6820                   8                  10                   6\n",
      "level                  32224                8056                   4                   4                   4\n",
      "location              217824                7770                  28                  46                  10\n",
      "method                 24168                8056                   3                   3                   3\n",
      "page                   60590                8056                   7                  16                   4\n",
      "registration          116550                7770                  15                  15                  15\n",
      "sessionId              24534                8056                   3                   4                   1\n",
      "song                  122453                6820                  17                 151                   1\n",
      "status                 24168                8056                   3                   3                   3\n",
      "ts                    104728                8056                  13                  13                  13\n",
      "userAgent             836396                7770                 107                 139                  63\n",
      "userId                 15501                7770                   1                   3                   1\n"
     ]
    }
   ],
   "source": [
    "show_length_stat(prop_name_list_log, parsed_data_set_log)"
   ]
  },
  {
   "cell_type": "code",
   "execution_count": null,
   "metadata": {
    "editable": true
   },
   "outputs": [],
   "source": []
  }
 ],
 "metadata": {
  "kernelspec": {
   "display_name": "Python 3",
   "language": "python",
   "name": "python3"
  },
  "language_info": {
   "codemirror_mode": {
    "name": "ipython",
    "version": 3
   },
   "file_extension": ".py",
   "mimetype": "text/x-python",
   "name": "python",
   "nbconvert_exporter": "python",
   "pygments_lexer": "ipython3",
   "version": "3.6.3"
  }
 },
 "nbformat": 4,
 "nbformat_minor": 4
}
