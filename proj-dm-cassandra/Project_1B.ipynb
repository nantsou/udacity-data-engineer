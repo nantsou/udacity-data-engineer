{
 "cells": [
  {
   "cell_type": "markdown",
   "metadata": {
    "editable": true
   },
   "source": [
    "# Project - Data Modeling with Cassandra"
   ]
  },
  {
   "cell_type": "markdown",
   "metadata": {
    "editable": true
   },
   "source": [
    "### _Import required packages_"
   ]
  },
  {
   "cell_type": "code",
   "execution_count": 1,
   "metadata": {
    "editable": true
   },
   "outputs": [],
   "source": [
    "import glob\n",
    "import pandas as pd\n",
    "import os\n",
    "\n",
    "from cassandra.cluster import Cluster\n",
    "from prettytable import PrettyTable"
   ]
  },
  {
   "cell_type": "markdown",
   "metadata": {
    "editable": true
   },
   "source": [
    "## Part I. ETL Pipeline for Pre-Processing the Files"
   ]
  },
  {
   "cell_type": "markdown",
   "metadata": {
    "editable": true
   },
   "source": [
    "### _Load Dataset_"
   ]
  },
  {
   "cell_type": "code",
   "execution_count": 2,
   "metadata": {
    "editable": true
   },
   "outputs": [],
   "source": [
    "# Get the data directory with current directory as the workplace.\n",
    "data_dir = os.path.join(os.getcwd(), 'event_data')\n",
    "\n",
    "# Get all the filename to be loaded.\n",
    "filename_list = glob.glob(os.path.join(data_dir,'*'), recursive=True)\n",
    "\n",
    "# Load dataset\n",
    "df_list = [pd.read_csv(filename) for filename in filename_list]\n",
    "raw_data = pd.concat(df_list)"
   ]
  },
  {
   "cell_type": "markdown",
   "metadata": {
    "editable": true
   },
   "source": [
    "### _Filter Dataset_"
   ]
  },
  {
   "cell_type": "code",
   "execution_count": 3,
   "metadata": {
    "editable": true
   },
   "outputs": [],
   "source": [
    "# Define the target columns\n",
    "target_columns = [\n",
    "    'artist', \n",
    "    'firstName', \n",
    "    'gender', \n",
    "    'itemInSession', \n",
    "    'lastName', \n",
    "    'length', \n",
    "    'level', \n",
    "    'location', \n",
    "    'sessionId', \n",
    "    'song', \n",
    "    'userId'\n",
    "]\n",
    "\n",
    "# Remove the data which artist is missing.\n",
    "data = raw_data[raw_data['artist'].notna()][target_columns]\n",
    "\n",
    "# Cast the type of userId to int\n",
    "data['userId'] = data['userId'].astype(int)\n",
    "\n",
    "# Dump filtered data to `event_datafile_new.csv` in workplace.\n",
    "data.to_csv('event_datafile_new.csv', index=False)"
   ]
  },
  {
   "cell_type": "markdown",
   "metadata": {
    "editable": true
   },
   "source": [
    "## Part II. ETL Pipeline for Cassandra Database Operations. "
   ]
  },
  {
   "cell_type": "markdown",
   "metadata": {
    "editable": true
   },
   "source": [
    "### _Define the Utility Methods_"
   ]
  },
  {
   "cell_type": "code",
   "execution_count": 4,
   "metadata": {
    "editable": true
   },
   "outputs": [],
   "source": [
    "def execute_query(session, query, data=None):\n",
    "    \"\"\"Execute the given query and data\n",
    "    \n",
    "    Keyword arguments:\n",
    "    session (cassandra.cluster.Connection) -- cassandra connection session.\n",
    "    query (str) -- the query to be executed.\n",
    "    data (list) -- the data corresponding to the given query.\n",
    "    \n",
    "    Reture:\n",
    "    results (cassandra.cluster.ResultSet) -- the results of the execution.\n",
    "    \"\"\"\n",
    "    try:\n",
    "        results = session.execute(query, data)\n",
    "    except Exception as e:\n",
    "        print(e)\n",
    "    \n",
    "    return results\n",
    "\n",
    "\n",
    "def insert_data(session, table_name, columns, data):\n",
    "    \"\"\"Insert the data into table with the given information and pre-defined execute_query method\n",
    "    \n",
    "    Keyword arguments:\n",
    "    session (cassandra.connection) -- cassandra connection session.\n",
    "    table_name (str) -- the name of the table where the data is inserted into.\n",
    "    columns (List[str]) -- the column names of the table.\n",
    "    data (dataframe) -- the data corresponding to the given columns.\n",
    "    \"\"\"\n",
    "    insert_query = f'insert into {table_name} ({\",\".join(columns)}) values ({\",\".join([\"%s\"]*len(columns))})'\n",
    "    for row in data.values:\n",
    "        execute_query(session, insert_query, row.tolist())\n"
   ]
  },
  {
   "cell_type": "markdown",
   "metadata": {
    "editable": true
   },
   "source": [
    "### _Establish the Connection to Crassandra Database Cluster_"
   ]
  },
  {
   "cell_type": "code",
   "execution_count": 5,
   "metadata": {
    "editable": true
   },
   "outputs": [],
   "source": [
    "# Create a cluster object.\n",
    "cluster = Cluster()\n",
    "\n",
    "# Establish the connection and create a session for the operations.\n",
    "session = cluster.connect()"
   ]
  },
  {
   "cell_type": "markdown",
   "metadata": {
    "editable": true
   },
   "source": [
    "### _Create a Keyspace_"
   ]
  },
  {
   "cell_type": "code",
   "execution_count": 6,
   "metadata": {
    "editable": true
   },
   "outputs": [],
   "source": [
    "# Define the query for creating the keyspace.\n",
    "query = \"\"\"create keyspace if not exists udacity\n",
    "with replication = {'class': 'SimpleStrategy', 'replication_factor': 1}\"\"\"\n",
    "\n",
    "# Execute the query to create the keyspace.\n",
    "try:\n",
    "    session.execute(query)\n",
    "except Exception as e:\n",
    "    print(e)"
   ]
  },
  {
   "cell_type": "markdown",
   "metadata": {
    "editable": true
   },
   "source": [
    "### _Set KeySpace to Session_"
   ]
  },
  {
   "cell_type": "code",
   "execution_count": 7,
   "metadata": {
    "editable": true
   },
   "outputs": [],
   "source": [
    "try:\n",
    "    session.set_keyspace('udacity')\n",
    "except Exception as e:\n",
    "    print(e)"
   ]
  },
  {
   "cell_type": "markdown",
   "metadata": {
    "editable": true
   },
   "source": [
    "### _Create Queries to Ask the following 3 questions of the data_"
   ]
  },
  {
   "cell_type": "markdown",
   "metadata": {
    "editable": true
   },
   "source": [
    "### Query 1\n",
    "\n",
    "**Give me the artist, song title and song's length in the music app history that was heard during sessionId = 338, and itemInSession = 4**\n",
    "\n",
    "### Query 2\n",
    "\n",
    "**Give me only the following: name of artist, song (sorted by itemInSession) and user (first and last name) for userid = 10, sessionid = 182**\n",
    "\n",
    "### Query 3\n",
    "\n",
    "**Give me every user name (first and last) in my music app history who listened to the song 'All Hands Against His Own'**\n"
   ]
  },
  {
   "cell_type": "markdown",
   "metadata": {
    "editable": true
   },
   "source": [
    "### _ETL Pipeline for Query 1_\n",
    "\n",
    "**Give me the artist, song title and song's length in the music app history that was heard during sessionId = 338, and itemInSession = 4**"
   ]
  },
  {
   "cell_type": "markdown",
   "metadata": {
    "editable": true
   },
   "source": [
    "The session_id and item_in_session are used to create the primary key becasue the data is uniquely identified by them.\n",
    "And the session_id is choosen as the partition key because I expected the data can be evenly distributed, \n",
    "which item_in_session could be skewed towards 0.\n",
    "As the result, the query will looks like follows:\n",
    "\n",
    "```\n",
    "select artist, song_title, song_length \n",
    "from session_history \n",
    "where sessionId = 338 and itemInSession = 4\n",
    "```"
   ]
  },
  {
   "cell_type": "markdown",
   "metadata": {
    "editable": true
   },
   "source": [
    "**Create Table and Insert Data**"
   ]
  },
  {
   "cell_type": "code",
   "execution_count": 8,
   "metadata": {
    "editable": true
   },
   "outputs": [],
   "source": [
    "# Drop the table to prevent the exception.\n",
    "execute_query(session, \"drop table if exists session_history\")\n",
    "\n",
    "# According to the explanation, session_id and item_in_session_id are used to create the primary key.\n",
    "# And the session_id is partition key and item_in_session_id is clustering key.\n",
    "# The asked information is artist, song title and song length so that they are the clustering columns.\n",
    "create_table_query = \"\"\"\n",
    "create table if not exists session_history\n",
    "(session_id int, item_in_session int, artist text, song_title text, song_length float, \n",
    "primary key (session_id, item_in_session))\n",
    "\"\"\"\n",
    "execute_query(session, create_table_query)\n",
    "\n",
    "# Insert Data\n",
    "# Define the source columns (dataframe) and target columns (table).\n",
    "columns_in_dataframe = ['sessionId', 'itemInSession', 'artist', 'song', 'length']\n",
    "columns_in_table = ['session_id', 'item_in_session', 'artist', 'song_title', 'song_length']\n",
    "insert_data(session, 'session_history', columns_in_table, data[columns_in_dataframe])"
   ]
  },
  {
   "cell_type": "markdown",
   "metadata": {
    "editable": true
   },
   "source": [
    "**Execute the Query to Ask the Question**"
   ]
  },
  {
   "cell_type": "code",
   "execution_count": 9,
   "metadata": {
    "editable": true
   },
   "outputs": [
    {
     "name": "stdout",
     "output_type": "stream",
     "text": [
      "Table 1. Song Info for Session ID: 338, Item: 4\n",
      "+-----------+---------------------------------+--------------------+\n",
      "|   artist  |            song_title           |    song_length     |\n",
      "+-----------+---------------------------------+--------------------+\n",
      "| Faithless | Music Matters (Mark Knight Dub) | 495.30731201171875 |\n",
      "+-----------+---------------------------------+--------------------+\n"
     ]
    }
   ],
   "source": [
    "query = \"\"\"\n",
    "select artist, song_title, song_length \n",
    "from session_history \n",
    "where session_id = 338 and item_in_session = 4\n",
    "\"\"\"\n",
    "\n",
    "# execute the query\n",
    "rows = execute_query(session, query)\n",
    "\n",
    "# show the results\n",
    "pretty_table = PrettyTable(['artist', 'song_title', 'song_length'])\n",
    "for row in rows:\n",
    "    pretty_table.add_row(row)\n",
    "\n",
    "print(\"Table 1. Song Info for Session ID: 338, Item: 4\")\n",
    "print(pretty_table)"
   ]
  },
  {
   "cell_type": "markdown",
   "metadata": {
    "editable": true
   },
   "source": [
    "### _ETL Pipeline for Query 2_\n",
    "\n",
    "**Give me only the following: name of artist, song (sorted by itemInSession) and user (first and last name) for userid = 10, sessionid = 182**"
   ]
  },
  {
   "cell_type": "markdown",
   "metadata": {
    "editable": true
   },
   "source": [
    "Similar approach to query 1, the data is identified by user_id and session_id so that they are choosen as the primary key. And both user_id and session_id looks ok for evently distributed so that they are used as the partition key. \n",
    "Besides, as it mentioned that song is going to be sorted by item_in_session, item_in_session is used as clustering key. \n",
    "As the result, the primary key consists of user_id and seesion_id as partition key and item_in_session as the clustering key.\n",
    "And the query would look like follows:\n",
    "\n",
    "```\n",
    "select artist, song_title, first_name, last_name\n",
    "from user_history \n",
    "where user_id = 10 and session_id = 182\n",
    "```"
   ]
  },
  {
   "cell_type": "markdown",
   "metadata": {
    "editable": true
   },
   "source": [
    "**Create Table and Insert Data**"
   ]
  },
  {
   "cell_type": "code",
   "execution_count": 10,
   "metadata": {
    "editable": true
   },
   "outputs": [],
   "source": [
    "# Drop the table to prevent the exception.\n",
    "execute_query(session, \"drop table if exists user_history\")\n",
    "\n",
    "# According to the explanation above, user_id and session_id are used to create the partition key, \n",
    "# and item_in_session is used as the clustering key.\n",
    "# The asked information is artist, song_title, first_name, last_name so that they are the clustering columns.\n",
    "create_table_query = \"\"\"\n",
    "create table if not exists user_history\n",
    "(user_id int, session_id int, item_in_session int, artist text, song_title text, first_name text, last_name text, \n",
    "primary key ((user_id, session_id), item_in_session))\n",
    "\"\"\"\n",
    "execute_query(session, create_table_query)\n",
    "\n",
    "# Insert Data\n",
    "# Define the source columns (dataframe) and target columns (table).\n",
    "columns_in_dataframe = ['userId', 'sessionId','itemInSession', 'artist', 'song', 'firstName', 'lastName']\n",
    "columns_in_table = ['user_id', 'session_id', 'item_in_session', 'artist', 'song_title', 'first_name', 'last_name']\n",
    "insert_data(session, 'user_history', columns_in_table, data[columns_in_dataframe])"
   ]
  },
  {
   "cell_type": "markdown",
   "metadata": {
    "editable": true
   },
   "source": [
    "**Execute the Query to Ask the Question**"
   ]
  },
  {
   "cell_type": "code",
   "execution_count": 11,
   "metadata": {
    "editable": true
   },
   "outputs": [
    {
     "name": "stdout",
     "output_type": "stream",
     "text": [
      "Table 2. Songs Info Played By User ID: 10, Session ID: 4\n",
      "+-------------------+------------------------------------------------------+------------+-----------+\n",
      "|       artist      |                      song_title                      | first_name | last_name |\n",
      "+-------------------+------------------------------------------------------+------------+-----------+\n",
      "|  Down To The Bone |                  Keep On Keepin' On                  |   Sylvie   |    Cruz   |\n",
      "|    Three Drives   |                     Greece 2000                      |   Sylvie   |    Cruz   |\n",
      "| Sebastien Tellier |                      Kilometer                       |   Sylvie   |    Cruz   |\n",
      "|   Lonnie Gordon   | Catch You Baby (Steve Pitron & Max Sanna Radio Edit) |   Sylvie   |    Cruz   |\n",
      "+-------------------+------------------------------------------------------+------------+-----------+\n"
     ]
    }
   ],
   "source": [
    "query = \"\"\"\n",
    "select artist, song_title, first_name, last_name\n",
    "from user_history \n",
    "where user_id = 10 and session_id = 182\n",
    "\"\"\"\n",
    "\n",
    "# execute the query\n",
    "rows = execute_query(session, query)\n",
    "\n",
    "# show the results\n",
    "pretty_table = PrettyTable(['artist', 'song_title', 'first_name', 'last_name'])\n",
    "for row in rows:\n",
    "    pretty_table.add_row(row)\n",
    "\n",
    "print(\"Table 2. Songs Info Played By User ID: 10, Session ID: 4\")\n",
    "print(pretty_table)"
   ]
  },
  {
   "cell_type": "markdown",
   "metadata": {
    "editable": true
   },
   "source": [
    "### _ETL Pipeline for Query 3_\n",
    "\n",
    "**Give me every user name (first and last) in my music app history who listened to the song 'All Hands Against His Own'**"
   ]
  },
  {
   "cell_type": "markdown",
   "metadata": {
    "editable": true
   },
   "source": [
    "The song is used to identified the data to find the user who has listened to.\n",
    "Obviously, song is going to be used as the partition key. \n",
    "On the other hand, the combination of last_name and fist_name is not guaranteed to be unique. \n",
    "user_id is used as the unique identifier although it's not required actually.\n",
    "As the result, the primary key consists of song as the partition key and user_id as the clustering key.\n",
    "And the query would looks like follows:\n",
    "\n",
    "```\n",
    "select first_name, last_name \n",
    "from song_history\n",
    "where song_title = 'All Hands Against His Own'\n",
    "```"
   ]
  },
  {
   "cell_type": "markdown",
   "metadata": {
    "editable": true
   },
   "source": [
    "**Create Table and Insert Data**"
   ]
  },
  {
   "cell_type": "code",
   "execution_count": 12,
   "metadata": {
    "editable": true
   },
   "outputs": [],
   "source": [
    "# Drop the table to prevent the exception.\n",
    "execute_query(session, \"drop table if exists song_history\")\n",
    "\n",
    "# According to the explanation, song_title and user_id are used to create the primary key, \n",
    "# which song_title is the partition key and user_id is the clustering key.\n",
    "# The user list will be sorted by user_id because user_id is the clustering key.\n",
    "# The asked information is first_name, last_name so that they are the clustering columns.\n",
    "create_table_query = \"\"\"\n",
    "create table if not exists song_history\n",
    "(song_title text, user_id int, first_name text, last_name text, PRIMARY KEY (song_title, user_id))\n",
    "\"\"\"\n",
    "execute_query(session, create_table_query)\n",
    "\n",
    "# Insert Data\n",
    "# Define the source columns (dataframe) and target columns (table).\n",
    "columns_in_dataframe = ['song', 'userId', 'firstName', 'lastName']\n",
    "columns_in_table = ['song_title', 'user_id', 'first_name', 'last_name']\n",
    "insert_data(session, 'song_history', columns_in_table, data[columns_in_dataframe])"
   ]
  },
  {
   "cell_type": "markdown",
   "metadata": {
    "editable": true
   },
   "source": [
    "**Execute the Query to Ask the Question**"
   ]
  },
  {
   "cell_type": "code",
   "execution_count": 13,
   "metadata": {
    "editable": true
   },
   "outputs": [
    {
     "name": "stdout",
     "output_type": "stream",
     "text": [
      "Table 2. Users Who Listened Song: All Hands Against His Own\n",
      "+------------+-----------+\n",
      "| first_name | last_name |\n",
      "+------------+-----------+\n",
      "| Jacqueline |   Lynch   |\n",
      "|   Tegan    |   Levine  |\n",
      "|    Sara    |  Johnson  |\n",
      "+------------+-----------+\n"
     ]
    }
   ],
   "source": [
    "query = \"\"\"\n",
    "select first_name, last_name \n",
    "from song_history\n",
    "where song_title = 'All Hands Against His Own'\n",
    "\"\"\"\n",
    "\n",
    "# execute the query\n",
    "rows = execute_query(session, query)\n",
    "\n",
    "# show the results\n",
    "pretty_table = PrettyTable(['first_name', 'last_name'])\n",
    "for row in rows:\n",
    "    pretty_table.add_row(row)\n",
    "\n",
    "print(\"Table 2. Users Who Listened Song: All Hands Against His Own\")\n",
    "print(pretty_table)"
   ]
  },
  {
   "cell_type": "markdown",
   "metadata": {
    "editable": true
   },
   "source": [
    "### _Drop the Tables Before Closing_"
   ]
  },
  {
   "cell_type": "code",
   "execution_count": 14,
   "metadata": {
    "editable": true
   },
   "outputs": [
    {
     "data": {
      "text/plain": [
       "<cassandra.cluster.ResultSet at 0x7f8892c0ce10>"
      ]
     },
     "execution_count": 14,
     "metadata": {},
     "output_type": "execute_result"
    }
   ],
   "source": [
    "execute_query(session, \"drop table if exists session_history\")\n",
    "execute_query(session, \"drop table if exists user_history\")\n",
    "execute_query(session, \"drop table if exists song_history\")"
   ]
  },
  {
   "cell_type": "markdown",
   "metadata": {
    "editable": true
   },
   "source": [
    "### _Close the Session and the Cluster Connection_"
   ]
  },
  {
   "cell_type": "code",
   "execution_count": 15,
   "metadata": {
    "editable": true
   },
   "outputs": [],
   "source": [
    "session.shutdown()\n",
    "cluster.shutdown()"
   ]
  },
  {
   "cell_type": "code",
   "execution_count": null,
   "metadata": {
    "editable": true
   },
   "outputs": [],
   "source": []
  }
 ],
 "metadata": {
  "kernelspec": {
   "display_name": "Python 3",
   "language": "python",
   "name": "python3"
  },
  "language_info": {
   "codemirror_mode": {
    "name": "ipython",
    "version": 3
   },
   "file_extension": ".py",
   "mimetype": "text/x-python",
   "name": "python",
   "nbconvert_exporter": "python",
   "pygments_lexer": "ipython3",
   "version": "3.6.3"
  }
 },
 "nbformat": 4,
 "nbformat_minor": 4
}
